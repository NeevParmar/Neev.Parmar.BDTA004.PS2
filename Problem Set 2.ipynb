{
 "cells": [
  {
   "cell_type": "markdown",
   "id": "4a35ccc8",
   "metadata": {},
   "source": [
    "<h1>Problen Set 02</h1>\n",
    "    <li>BDTA1004-Data Programming</li>\n",
    "    <li>Neev Parmar</li>\n",
    "    <li>200474591</li>"
   ]
  },
  {
   "cell_type": "markdown",
   "id": "635fcd57",
   "metadata": {},
   "source": [
    "<h1>Question:1</h1>\n",
    "    Question-1 : \n",
    "   What value is displayed when the last expression (a) is evaluated? Explain your answer by indicating what happens in every executed statement."
   ]
  },
  {
   "cell_type": "code",
   "execution_count": 4,
   "id": "fe22ea1e",
   "metadata": {},
   "outputs": [],
   "source": [
    "a = 0\n",
    "\n",
    "def b():\n",
    "    \n",
    "    global a\n",
    "    a = c(a)\n",
    "    \n",
    "def c(a):\n",
    "    return a + 2"
   ]
  },
  {
   "cell_type": "code",
   "execution_count": 5,
   "id": "e5c87165",
   "metadata": {},
   "outputs": [],
   "source": [
    "b()"
   ]
  },
  {
   "cell_type": "code",
   "execution_count": 6,
   "id": "3b04283c",
   "metadata": {},
   "outputs": [],
   "source": [
    "b()"
   ]
  },
  {
   "cell_type": "code",
   "execution_count": 7,
   "id": "5aeedb30",
   "metadata": {},
   "outputs": [],
   "source": [
    "b()"
   ]
  },
  {
   "cell_type": "code",
   "execution_count": 8,
   "id": "2dbc07de",
   "metadata": {},
   "outputs": [
    {
     "data": {
      "text/plain": [
       "6"
      ]
     },
     "execution_count": 8,
     "metadata": {},
     "output_type": "execute_result"
    }
   ],
   "source": [
    "a"
   ]
  },
  {
   "cell_type": "markdown",
   "id": "2da22202",
   "metadata": {},
   "source": [
    "Initial value is 0 but after each b() run it adds 2 to the main value so after 3 itteration when we run the a it gives 6 as answer as the main value."
   ]
  },
  {
   "cell_type": "markdown",
   "id": "9f8a4dd1",
   "metadata": {},
   "source": [
    "<p>######################################################################\n",
    "</p>"
   ]
  },
  {
   "cell_type": "markdown",
   "id": "fddaa4aa",
   "metadata": {},
   "source": [
    "<h1>Question:2</h1>\n",
    "    Question-2 : \n",
    "   Function fileLength(), given to you, takes the name of a file as input and returns the length of the file:"
   ]
  },
  {
   "cell_type": "code",
   "execution_count": 35,
   "id": "1b8e1ca4",
   "metadata": {},
   "outputs": [
    {
     "name": "stdout",
     "output_type": "stream",
     "text": [
      "\n"
     ]
    }
   ],
   "source": [
    "file1 = open('myfile1.txt', 'w')\n",
    "L = [\"This is Delhi \\n\", \"This is Ahmedabad \\n\", \"This is Mimbai \\n\"]\n",
    "s = \"Hello\\n\"\n",
    "\n",
    "file1.write(s)\n",
    "\n",
    "file1.writelines(L)\n",
    "  \n",
    "file1.close()\n",
    "\n",
    "file1 = open('myfile.txt', 'r')\n",
    "print(file1.read())\n",
    "file1.close()"
   ]
  },
  {
   "cell_type": "code",
   "execution_count": 33,
   "id": "7a66bf8c",
   "metadata": {},
   "outputs": [],
   "source": [
    "import os\n",
    "\n",
    "def fileLength(filename):\n",
    "        try:\n",
    "            data=f.readlines()\n",
    "               line=\"\"\n",
    "                for i in data:\n",
    "                        line+=i\n",
    "                result=len(line)\n",
    "                return result\n",
    "        except FileNotFoundError:\n",
    "                return (\"File {} not found.\".format(filename))"
   ]
  },
  {
   "cell_type": "code",
   "execution_count": 37,
   "id": "6dd76969",
   "metadata": {},
   "outputs": [
    {
     "name": "stdout",
     "output_type": "stream",
     "text": [
      "56\n",
      "0\n"
     ]
    }
   ],
   "source": [
    "f=open('myfile1.txt','r')\n",
    "print(fileLength('myfile1.txt'))\n",
    "print(fileLength('myfile2.txt'))"
   ]
  },
  {
   "cell_type": "markdown",
   "id": "8750b12c",
   "metadata": {},
   "source": [
    "<p>######################################################################</p>"
   ]
  },
  {
   "cell_type": "markdown",
   "id": "ce86e8f0",
   "metadata": {},
   "source": [
    "<h1>Question:3</h1>\n",
    "    Question-3 : \n",
    "    Now write a class named Kangaroo as a subclass of Marsupial that inherits all the attributes of Marsupial and also:"
   ]
  },
  {
   "cell_type": "code",
   "execution_count": 70,
   "id": "821f485f",
   "metadata": {},
   "outputs": [],
   "source": [
    "class marsupial:\n",
    "    def __init__(self,a,b):\n",
    "        self.pouch=[]\n",
    "    \n",
    "    def put_in_pouch(self,items):\n",
    "        self.pouch.append(items)\n",
    "        \n",
    "    def pouch_contents(self):\n",
    "        return self.pouch\n",
    "    \n",
    "class kangaroo(marsupial):\n",
    "    def __init__(self,a,b):\n",
    "        super().__init__(a,b)\n",
    "        self.da = 0\n",
    "        self.db = 0\n",
    "        \n",
    "    def jump(self,a,b):\n",
    "        self.da = self.da + a\n",
    "        self.db = self.db + b\n",
    "        \n",
    "    def __str__(self):\n",
    "        \n",
    "        return('I am a kaangaroo located at the given cordinates({},{})'.format(self.da,self.db))"
   ]
  },
  {
   "cell_type": "code",
   "execution_count": 71,
   "id": "f54c557e",
   "metadata": {},
   "outputs": [
    {
     "name": "stdout",
     "output_type": "stream",
     "text": [
      "I am a kaangaroo located at the given cordinates(0,0)\n"
     ]
    }
   ],
   "source": [
    "k = kangaroo(0,0)\n",
    "print(k)"
   ]
  },
  {
   "cell_type": "code",
   "execution_count": 72,
   "id": "15202653",
   "metadata": {},
   "outputs": [
    {
     "name": "stdout",
     "output_type": "stream",
     "text": [
      "['doll', 'firetruck', 'kitten']\n"
     ]
    }
   ],
   "source": [
    "k.put_in_pouch('doll')\n",
    "\n",
    "k.put_in_pouch('firetruck')\n",
    "\n",
    "k.put_in_pouch('kitten')\n",
    "\n",
    "print(k.pouch_contents())"
   ]
  },
  {
   "cell_type": "code",
   "execution_count": 73,
   "id": "26226faa",
   "metadata": {},
   "outputs": [
    {
     "name": "stdout",
     "output_type": "stream",
     "text": [
      "I am a kaangaroo located at the given cordinates(3,0)\n"
     ]
    }
   ],
   "source": [
    "k.jump(1,0)\n",
    "k.jump(1,0)\n",
    "k.jump(1,0)\n",
    "print(k)"
   ]
  },
  {
   "cell_type": "markdown",
   "id": "102042c1",
   "metadata": {},
   "source": [
    "<p>######################################################################</p>"
   ]
  },
  {
   "cell_type": "markdown",
   "id": "8f6b2ad8",
   "metadata": {},
   "source": [
    "<h1>Question:4</h1>\n",
    "    Quetion-4 : \n",
    "    Write function collatz() that takes a positive integer x as input and prints the Collatz sequence starting at x. A Collatz sequence is obtained by repeatedly applying this rule to the previous number x in the sequence:"
   ]
  },
  {
   "cell_type": "code",
   "execution_count": 75,
   "id": "aa676df7",
   "metadata": {},
   "outputs": [
    {
     "name": "stdout",
     "output_type": "stream",
     "text": [
      "1\n",
      "10 5 16 8 4 2 1\n"
     ]
    }
   ],
   "source": [
    "def printCollatz(n):\n",
    "    \n",
    "    while n != 1:\n",
    "    print(n, end = ' ')\n",
    "\n",
    "    if n & 1:\n",
    "        n = 3 * n + 1\n",
    "\n",
    "    else:\n",
    "        n = n // 2\n",
    "\n",
    "    print(n)\n",
    "\n",
    "printCollatz(1)\n",
    "printCollatz(10)\n"
   ]
  },
  {
   "cell_type": "markdown",
   "id": "d3023ba5",
   "metadata": {},
   "source": [
    "<p>######################################################################</p>"
   ]
  },
  {
   "cell_type": "markdown",
   "id": "27f17003",
   "metadata": {},
   "source": [
    "<h1>Question:5</h1>\n",
    "    Question-5 : \n",
    "   Write a recursive method binary() that takes a non-negative integer n and prints the binary representation of integer n."
   ]
  },
  {
   "cell_type": "code",
   "execution_count": 102,
   "id": "80f2699f",
   "metadata": {},
   "outputs": [
    {
     "name": "stdout",
     "output_type": "stream",
     "text": [
      "0\n",
      "1\n",
      "11\n",
      "1001\n"
     ]
    }
   ],
   "source": [
    "def find( decimal_number ):\n",
    "    if decimal_number == 0:\n",
    "        return 0\n",
    "    else:\n",
    "        return (decimal_number % 2 + 10 *\n",
    "                find(int(decimal_number // 2)))\n",
    " \n",
    "# Driver Code\n",
    "decimal_number = 0\n",
    "print(find(decimal_number))\n",
    "\n",
    "decimal_number = 1\n",
    "print(find(decimal_number))\n",
    "\n",
    "decimal_number = 3\n",
    "print(find(decimal_number))\n",
    "\n",
    "decimal_number = 9\n",
    "print(find(decimal_number))"
   ]
  },
  {
   "cell_type": "markdown",
   "id": "20d8548b",
   "metadata": {},
   "source": [
    "<p>######################################################################</p>"
   ]
  },
  {
   "cell_type": "markdown",
   "id": "9aace3a6",
   "metadata": {},
   "source": [
    "<h1>Question:6</h1>\n",
    "    Question-6 : \n",
    "   Implement a class named HeadingParser that can be used to parse an HTML document, and retrieve and print all the headings in the document. You should implement your class as a subclass of HTMLParser, defined in Standard Library module html.parser. When fed a string containing HTML code, your class should print the headings, one per line and in the order in which they appear in the document. Each heading should be indented as follows: an h1 heading should have indentation 0, and h2 heading should have indentation 1, etc. Test your implementation using w3c.html."
   ]
  },
  {
   "cell_type": "code",
   "execution_count": 202,
   "id": "572c19db",
   "metadata": {},
   "outputs": [],
   "source": [
    "from html.parser import HTMLParser\n",
    "\n",
    "\n",
    "class HeadingParser(HTMLParser):\n",
    "    headers = ['h1', 'h2', 'h3', 'h4', 'h5', 'h6']\n",
    "\n",
    "    \n",
    "    def handle_starttag(self, tag, attrs):\n",
    "        if tag in self.headers:\n",
    "            print(tag)\n",
    "\n",
    "    def handle_endtag(self, tag):\n",
    "        if tag in self.headers:\n",
    "            print(tag)\n",
    "\n",
    "    def handle_data(self, data):\n",
    "        print(data)\n",
    "\n"
   ]
  },
  {
   "cell_type": "code",
   "execution_count": 203,
   "id": "b7d6d122",
   "metadata": {},
   "outputs": [],
   "source": [
    "infile = open('w3c.html')"
   ]
  },
  {
   "cell_type": "code",
   "execution_count": 204,
   "id": "2b4523bb",
   "metadata": {},
   "outputs": [],
   "source": [
    "content = infile.read()"
   ]
  },
  {
   "cell_type": "code",
   "execution_count": 205,
   "id": "93931b1a",
   "metadata": {},
   "outputs": [],
   "source": [
    "infile.close()"
   ]
  },
  {
   "cell_type": "code",
   "execution_count": 206,
   "id": "20d8a3f6",
   "metadata": {},
   "outputs": [],
   "source": [
    "hp = HeadingParser()"
   ]
  },
  {
   "cell_type": "code",
   "execution_count": 207,
   "id": "487d686c",
   "metadata": {},
   "outputs": [
    {
     "name": "stdout",
     "output_type": "stream",
     "text": [
      " \n",
      " \n",
      "W3C Mission Principles\n",
      " \n"
     ]
    }
   ],
   "source": [
    "hp.feed(content)"
   ]
  },
  {
   "cell_type": "markdown",
   "id": "b4fa265c",
   "metadata": {},
   "source": [
    "<p>######################################################################</p>"
   ]
  },
  {
   "cell_type": "markdown",
   "id": "7f86068c",
   "metadata": {},
   "source": [
    "<h1>Question:8</h1>\n",
    "    Question-8 : \n",
    "   Write SQL queries on the below database table that return:"
   ]
  },
  {
   "cell_type": "code",
   "execution_count": 7,
   "id": "c041a450",
   "metadata": {
    "scrolled": true
   },
   "outputs": [
    {
     "name": "stdout",
     "output_type": "stream",
     "text": [
      "Requirement already satisfied: ipython-sql in c:\\users\\neevp\\anaconda3\\lib\\site-packages (0.4.0)\n",
      "Requirement already satisfied: prettytable<1 in c:\\users\\neevp\\anaconda3\\lib\\site-packages (from ipython-sql) (0.7.2)\n",
      "Requirement already satisfied: sqlparse in c:\\users\\neevp\\anaconda3\\lib\\site-packages (from ipython-sql) (0.4.1)\n",
      "Requirement already satisfied: ipython-genutils>=0.1.0 in c:\\users\\neevp\\anaconda3\\lib\\site-packages (from ipython-sql) (0.2.0)\n",
      "Requirement already satisfied: sqlalchemy>=0.6.7 in c:\\users\\neevp\\anaconda3\\lib\\site-packages (from ipython-sql) (1.4.7)\n",
      "Requirement already satisfied: six in c:\\users\\neevp\\anaconda3\\lib\\site-packages (from ipython-sql) (1.15.0)\n",
      "Requirement already satisfied: ipython>=1.0 in c:\\users\\neevp\\anaconda3\\lib\\site-packages (from ipython-sql) (7.22.0)\n",
      "Requirement already satisfied: setuptools>=18.5 in c:\\users\\neevp\\anaconda3\\lib\\site-packages (from ipython>=1.0->ipython-sql) (52.0.0.post20210125)\n",
      "Requirement already satisfied: jedi>=0.16 in c:\\users\\neevp\\anaconda3\\lib\\site-packages (from ipython>=1.0->ipython-sql) (0.17.2)\n",
      "Requirement already satisfied: pickleshare in c:\\users\\neevp\\anaconda3\\lib\\site-packages (from ipython>=1.0->ipython-sql) (0.7.5)\n",
      "Requirement already satisfied: backcall in c:\\users\\neevp\\anaconda3\\lib\\site-packages (from ipython>=1.0->ipython-sql) (0.2.0)\n",
      "Requirement already satisfied: pygments in c:\\users\\neevp\\anaconda3\\lib\\site-packages (from ipython>=1.0->ipython-sql) (2.8.1)\n",
      "Requirement already satisfied: traitlets>=4.2 in c:\\users\\neevp\\anaconda3\\lib\\site-packages (from ipython>=1.0->ipython-sql) (5.0.5)\n",
      "Requirement already satisfied: decorator in c:\\users\\neevp\\anaconda3\\lib\\site-packages (from ipython>=1.0->ipython-sql) (5.0.6)\n",
      "Requirement already satisfied: prompt-toolkit!=3.0.0,!=3.0.1,<3.1.0,>=2.0.0 in c:\\users\\neevp\\anaconda3\\lib\\site-packages (from ipython>=1.0->ipython-sql) (3.0.17)\n",
      "Requirement already satisfied: colorama in c:\\users\\neevp\\anaconda3\\lib\\site-packages (from ipython>=1.0->ipython-sql) (0.4.4)\n",
      "Requirement already satisfied: parso<0.8.0,>=0.7.0 in c:\\users\\neevp\\anaconda3\\lib\\site-packages (from jedi>=0.16->ipython>=1.0->ipython-sql) (0.7.0)\n",
      "Requirement already satisfied: wcwidth in c:\\users\\neevp\\anaconda3\\lib\\site-packages (from prompt-toolkit!=3.0.0,!=3.0.1,<3.1.0,>=2.0.0->ipython>=1.0->ipython-sql) (0.2.5)\n",
      "Requirement already satisfied: greenlet!=0.4.17 in c:\\users\\neevp\\anaconda3\\lib\\site-packages (from sqlalchemy>=0.6.7->ipython-sql) (1.0.0)\n"
     ]
    }
   ],
   "source": [
    "!pip install ipython-sql"
   ]
  },
  {
   "cell_type": "code",
   "execution_count": 8,
   "id": "6051d814",
   "metadata": {},
   "outputs": [
    {
     "name": "stdout",
     "output_type": "stream",
     "text": [
      "The sql extension is already loaded. To reload it, use:\n",
      "  %reload_ext sql\n"
     ]
    }
   ],
   "source": [
    "%load_ext sql"
   ]
  },
  {
   "cell_type": "code",
   "execution_count": 9,
   "id": "16475ff5",
   "metadata": {},
   "outputs": [],
   "source": [
    "%sql sqlite://"
   ]
  },
  {
   "cell_type": "code",
   "execution_count": 10,
   "id": "bf30b416",
   "metadata": {},
   "outputs": [
    {
     "name": "stdout",
     "output_type": "stream",
     "text": [
      " * sqlite://\n",
      "(sqlite3.OperationalError) table whether already exists\n",
      "[SQL: CREATE TABLE whether (\n",
      "city varchar(15),\n",
      "countrt varchar(15),\n",
      "season varchar(15),\n",
      "temperature float,\n",
      "rainfall float\n",
      ")]\n",
      "(Background on this error at: http://sqlalche.me/e/14/e3q8)\n"
     ]
    }
   ],
   "source": [
    "%%sql\n",
    "CREATE TABLE whether\n",
    "(\n",
    "city varchar(15),\n",
    "countrt varchar(15),\n",
    "season varchar(15),\n",
    "temperature float,\n",
    "rainfall float\n",
    ")"
   ]
  },
  {
   "cell_type": "code",
   "execution_count": 13,
   "id": "0ad62eed",
   "metadata": {},
   "outputs": [
    {
     "name": "stdout",
     "output_type": "stream",
     "text": [
      " * sqlite://\n",
      "(sqlite3.OperationalError) near \"INSERT\": syntax error\n",
      "[SQL: INSERT INTO whether VALUES('Mumbai', 'India', 'Winter', 24.8,5.9),\n",
      "INSERT INTO whether VALUES('Mumbai', 'India', 'Spring', 28.4,16.2),\n",
      "INSERT INTO whether VALUES('Mumbai', 'India', 'Summer', 27.9,1549.4),\n",
      "INSERT INTO whether VALUES('Mumbai', 'India', 'Fall', 27.6,346.0),\n",
      "INSERT INTO whether VALUES('London', 'United kingdom', 'Winter', 4.2,207.7),\n",
      "INSERT INTO whether VALUES('London', 'United kingdom', 'Spring', 8.3,169.6),\n",
      "INSERT INTO whether VALUES('London', 'United kingdom','Summer', 15.7,157.0),\n",
      "INSERT INTO whether VALUES('London', 'United kingdom','Fall', 10.4,218.5),\n",
      "INSERT INTO whether VALUES('Cairo', 'Egypt','Winter', 13.6,16.5),\n",
      "INSERT INTO whether VALUES('Cairo', 'Egypt', 'Spring', 20.7,6.5)]\n",
      "(Background on this error at: http://sqlalche.me/e/14/e3q8)\n"
     ]
    }
   ],
   "source": [
    "%%sql\n",
    "INSERT INTO whether VALUES('Mumbai', 'India', 'Winter', 24.8,5.9),\n",
    "INSERT INTO whether VALUES('Mumbai', 'India', 'Spring', 28.4,16.2),\n",
    "INSERT INTO whether VALUES('Mumbai', 'India', 'Summer', 27.9,1549.4),\n",
    "INSERT INTO whether VALUES('Mumbai', 'India', 'Fall', 27.6,346.0),\n",
    "INSERT INTO whether VALUES('London', 'United kingdom', 'Winter', 4.2,207.7),\n",
    "INSERT INTO whether VALUES('London', 'United kingdom', 'Spring', 8.3,169.6),\n",
    "INSERT INTO whether VALUES('London', 'United kingdom','Summer', 15.7,157.0),\n",
    "INSERT INTO whether VALUES('London', 'United kingdom','Fall', 10.4,218.5),\n",
    "INSERT INTO whether VALUES('Cairo', 'Egypt','Winter', 13.6,16.5),\n",
    "INSERT INTO whether VALUES('Cairo', 'Egypt', 'Spring', 20.7,6.5)"
   ]
  },
  {
   "cell_type": "code",
   "execution_count": 14,
   "id": "24bf8e07",
   "metadata": {},
   "outputs": [
    {
     "name": "stdout",
     "output_type": "stream",
     "text": [
      " * sqlite://\n",
      "Done.\n"
     ]
    },
    {
     "data": {
      "text/html": [
       "<table>\n",
       "    <tr>\n",
       "        <th>city</th>\n",
       "        <th>countrt</th>\n",
       "        <th>season</th>\n",
       "        <th>temperature</th>\n",
       "        <th>rainfall</th>\n",
       "    </tr>\n",
       "    <tr>\n",
       "        <td>Mumbai</td>\n",
       "        <td>India</td>\n",
       "        <td>Winter</td>\n",
       "        <td>24.8</td>\n",
       "        <td>5.9</td>\n",
       "    </tr>\n",
       "    <tr>\n",
       "        <td>Mumbai</td>\n",
       "        <td>India</td>\n",
       "        <td>Spring</td>\n",
       "        <td>28.4</td>\n",
       "        <td>16.2</td>\n",
       "    </tr>\n",
       "    <tr>\n",
       "        <td>Mumbai</td>\n",
       "        <td>India</td>\n",
       "        <td>Summer</td>\n",
       "        <td>27.9</td>\n",
       "        <td>1549.4</td>\n",
       "    </tr>\n",
       "    <tr>\n",
       "        <td>Mumbai</td>\n",
       "        <td>India</td>\n",
       "        <td>Fall</td>\n",
       "        <td>27.6</td>\n",
       "        <td>346.0</td>\n",
       "    </tr>\n",
       "    <tr>\n",
       "        <td>London</td>\n",
       "        <td>United kingdom</td>\n",
       "        <td>Winter</td>\n",
       "        <td>4.2</td>\n",
       "        <td>207.7</td>\n",
       "    </tr>\n",
       "    <tr>\n",
       "        <td>London</td>\n",
       "        <td>United kingdom</td>\n",
       "        <td>Spring</td>\n",
       "        <td>8.3</td>\n",
       "        <td>169.6</td>\n",
       "    </tr>\n",
       "    <tr>\n",
       "        <td>London</td>\n",
       "        <td>United kingdom</td>\n",
       "        <td>Summer</td>\n",
       "        <td>15.7</td>\n",
       "        <td>157.0</td>\n",
       "    </tr>\n",
       "    <tr>\n",
       "        <td>London</td>\n",
       "        <td>United kingdom</td>\n",
       "        <td>Fall</td>\n",
       "        <td>10.4</td>\n",
       "        <td>218.5</td>\n",
       "    </tr>\n",
       "    <tr>\n",
       "        <td>Cairo</td>\n",
       "        <td>Egypt</td>\n",
       "        <td>Winter</td>\n",
       "        <td>13.6</td>\n",
       "        <td>16.5</td>\n",
       "    </tr>\n",
       "    <tr>\n",
       "        <td>Cairo</td>\n",
       "        <td>Egypt</td>\n",
       "        <td>Spring</td>\n",
       "        <td>20.7</td>\n",
       "        <td>6.5</td>\n",
       "    </tr>\n",
       "    <tr>\n",
       "        <td>Mumbai</td>\n",
       "        <td>India</td>\n",
       "        <td>Winter</td>\n",
       "        <td>24.8</td>\n",
       "        <td>5.9</td>\n",
       "    </tr>\n",
       "    <tr>\n",
       "        <td>Mumbai</td>\n",
       "        <td>India</td>\n",
       "        <td>Spring</td>\n",
       "        <td>28.4</td>\n",
       "        <td>16.2</td>\n",
       "    </tr>\n",
       "    <tr>\n",
       "        <td>Mumbai</td>\n",
       "        <td>India</td>\n",
       "        <td>Summer</td>\n",
       "        <td>27.9</td>\n",
       "        <td>1549.4</td>\n",
       "    </tr>\n",
       "    <tr>\n",
       "        <td>Mumbai</td>\n",
       "        <td>India</td>\n",
       "        <td>Fall</td>\n",
       "        <td>27.6</td>\n",
       "        <td>346.0</td>\n",
       "    </tr>\n",
       "    <tr>\n",
       "        <td>London</td>\n",
       "        <td>United kingdom</td>\n",
       "        <td>Winter</td>\n",
       "        <td>4.2</td>\n",
       "        <td>207.7</td>\n",
       "    </tr>\n",
       "    <tr>\n",
       "        <td>London</td>\n",
       "        <td>United kingdom</td>\n",
       "        <td>Spring</td>\n",
       "        <td>8.3</td>\n",
       "        <td>169.6</td>\n",
       "    </tr>\n",
       "    <tr>\n",
       "        <td>London</td>\n",
       "        <td>United kingdom</td>\n",
       "        <td>Summer</td>\n",
       "        <td>15.7</td>\n",
       "        <td>157.0</td>\n",
       "    </tr>\n",
       "    <tr>\n",
       "        <td>London</td>\n",
       "        <td>United kingdom</td>\n",
       "        <td>Fall</td>\n",
       "        <td>10.4</td>\n",
       "        <td>218.5</td>\n",
       "    </tr>\n",
       "    <tr>\n",
       "        <td>Cairo</td>\n",
       "        <td>Egypt</td>\n",
       "        <td>Winter</td>\n",
       "        <td>13.6</td>\n",
       "        <td>16.5</td>\n",
       "    </tr>\n",
       "    <tr>\n",
       "        <td>Cairo</td>\n",
       "        <td>Egypt</td>\n",
       "        <td>Spring</td>\n",
       "        <td>20.7</td>\n",
       "        <td>6.5</td>\n",
       "    </tr>\n",
       "</table>"
      ],
      "text/plain": [
       "[('Mumbai', 'India', 'Winter', 24.8, 5.9),\n",
       " ('Mumbai', 'India', 'Spring', 28.4, 16.2),\n",
       " ('Mumbai', 'India', 'Summer', 27.9, 1549.4),\n",
       " ('Mumbai', 'India', 'Fall', 27.6, 346.0),\n",
       " ('London', 'United kingdom', 'Winter', 4.2, 207.7),\n",
       " ('London', 'United kingdom', 'Spring', 8.3, 169.6),\n",
       " ('London', 'United kingdom', 'Summer', 15.7, 157.0),\n",
       " ('London', 'United kingdom', 'Fall', 10.4, 218.5),\n",
       " ('Cairo', 'Egypt', 'Winter', 13.6, 16.5),\n",
       " ('Cairo', 'Egypt', 'Spring', 20.7, 6.5),\n",
       " ('Mumbai', 'India', 'Winter', 24.8, 5.9),\n",
       " ('Mumbai', 'India', 'Spring', 28.4, 16.2),\n",
       " ('Mumbai', 'India', 'Summer', 27.9, 1549.4),\n",
       " ('Mumbai', 'India', 'Fall', 27.6, 346.0),\n",
       " ('London', 'United kingdom', 'Winter', 4.2, 207.7),\n",
       " ('London', 'United kingdom', 'Spring', 8.3, 169.6),\n",
       " ('London', 'United kingdom', 'Summer', 15.7, 157.0),\n",
       " ('London', 'United kingdom', 'Fall', 10.4, 218.5),\n",
       " ('Cairo', 'Egypt', 'Winter', 13.6, 16.5),\n",
       " ('Cairo', 'Egypt', 'Spring', 20.7, 6.5)]"
      ]
     },
     "execution_count": 14,
     "metadata": {},
     "output_type": "execute_result"
    }
   ],
   "source": [
    "%%sql\n",
    "select * from whether;"
   ]
  },
  {
   "cell_type": "markdown",
   "id": "5b66c3af",
   "metadata": {},
   "source": [
    "<li>a</li>\n",
    "All the temperature data."
   ]
  },
  {
   "cell_type": "code",
   "execution_count": 18,
   "id": "7462eefd",
   "metadata": {},
   "outputs": [
    {
     "name": "stdout",
     "output_type": "stream",
     "text": [
      " * sqlite://\n",
      "Done.\n"
     ]
    },
    {
     "data": {
      "text/html": [
       "<table>\n",
       "    <tr>\n",
       "        <th>temperature</th>\n",
       "    </tr>\n",
       "    <tr>\n",
       "        <td>24.8</td>\n",
       "    </tr>\n",
       "    <tr>\n",
       "        <td>28.4</td>\n",
       "    </tr>\n",
       "    <tr>\n",
       "        <td>27.9</td>\n",
       "    </tr>\n",
       "    <tr>\n",
       "        <td>27.6</td>\n",
       "    </tr>\n",
       "    <tr>\n",
       "        <td>4.2</td>\n",
       "    </tr>\n",
       "    <tr>\n",
       "        <td>8.3</td>\n",
       "    </tr>\n",
       "    <tr>\n",
       "        <td>15.7</td>\n",
       "    </tr>\n",
       "    <tr>\n",
       "        <td>10.4</td>\n",
       "    </tr>\n",
       "    <tr>\n",
       "        <td>13.6</td>\n",
       "    </tr>\n",
       "    <tr>\n",
       "        <td>20.7</td>\n",
       "    </tr>\n",
       "    <tr>\n",
       "        <td>24.8</td>\n",
       "    </tr>\n",
       "    <tr>\n",
       "        <td>28.4</td>\n",
       "    </tr>\n",
       "    <tr>\n",
       "        <td>27.9</td>\n",
       "    </tr>\n",
       "    <tr>\n",
       "        <td>27.6</td>\n",
       "    </tr>\n",
       "    <tr>\n",
       "        <td>4.2</td>\n",
       "    </tr>\n",
       "    <tr>\n",
       "        <td>8.3</td>\n",
       "    </tr>\n",
       "    <tr>\n",
       "        <td>15.7</td>\n",
       "    </tr>\n",
       "    <tr>\n",
       "        <td>10.4</td>\n",
       "    </tr>\n",
       "    <tr>\n",
       "        <td>13.6</td>\n",
       "    </tr>\n",
       "    <tr>\n",
       "        <td>20.7</td>\n",
       "    </tr>\n",
       "</table>"
      ],
      "text/plain": [
       "[(24.8,),\n",
       " (28.4,),\n",
       " (27.9,),\n",
       " (27.6,),\n",
       " (4.2,),\n",
       " (8.3,),\n",
       " (15.7,),\n",
       " (10.4,),\n",
       " (13.6,),\n",
       " (20.7,),\n",
       " (24.8,),\n",
       " (28.4,),\n",
       " (27.9,),\n",
       " (27.6,),\n",
       " (4.2,),\n",
       " (8.3,),\n",
       " (15.7,),\n",
       " (10.4,),\n",
       " (13.6,),\n",
       " (20.7,)]"
      ]
     },
     "execution_count": 18,
     "metadata": {},
     "output_type": "execute_result"
    }
   ],
   "source": [
    "%%sql\n",
    "select temperature from whether;"
   ]
  },
  {
   "cell_type": "markdown",
   "id": "40e74eea",
   "metadata": {},
   "source": [
    "<li>b</li>\n",
    "All the cities, but without repetition."
   ]
  },
  {
   "cell_type": "code",
   "execution_count": 19,
   "id": "ffa43a97",
   "metadata": {},
   "outputs": [
    {
     "name": "stdout",
     "output_type": "stream",
     "text": [
      " * sqlite://\n",
      "Done.\n"
     ]
    },
    {
     "data": {
      "text/html": [
       "<table>\n",
       "    <tr>\n",
       "        <th>city</th>\n",
       "    </tr>\n",
       "    <tr>\n",
       "        <td>Mumbai</td>\n",
       "    </tr>\n",
       "    <tr>\n",
       "        <td>London</td>\n",
       "    </tr>\n",
       "    <tr>\n",
       "        <td>Cairo</td>\n",
       "    </tr>\n",
       "</table>"
      ],
      "text/plain": [
       "[('Mumbai',), ('London',), ('Cairo',)]"
      ]
     },
     "execution_count": 19,
     "metadata": {},
     "output_type": "execute_result"
    }
   ],
   "source": [
    "%%sql\n",
    "select distinct city from whether;"
   ]
  },
  {
   "cell_type": "markdown",
   "id": "001413d8",
   "metadata": {},
   "source": [
    "<li>c</li>\n",
    "All the records for India."
   ]
  },
  {
   "cell_type": "code",
   "execution_count": 21,
   "id": "766796e1",
   "metadata": {},
   "outputs": [
    {
     "name": "stdout",
     "output_type": "stream",
     "text": [
      " * sqlite://\n",
      "Done.\n"
     ]
    },
    {
     "data": {
      "text/html": [
       "<table>\n",
       "    <tr>\n",
       "        <th>city</th>\n",
       "        <th>countrt</th>\n",
       "        <th>season</th>\n",
       "        <th>temperature</th>\n",
       "        <th>rainfall</th>\n",
       "    </tr>\n",
       "    <tr>\n",
       "        <td>Mumbai</td>\n",
       "        <td>India</td>\n",
       "        <td>Winter</td>\n",
       "        <td>24.8</td>\n",
       "        <td>5.9</td>\n",
       "    </tr>\n",
       "    <tr>\n",
       "        <td>Mumbai</td>\n",
       "        <td>India</td>\n",
       "        <td>Spring</td>\n",
       "        <td>28.4</td>\n",
       "        <td>16.2</td>\n",
       "    </tr>\n",
       "    <tr>\n",
       "        <td>Mumbai</td>\n",
       "        <td>India</td>\n",
       "        <td>Summer</td>\n",
       "        <td>27.9</td>\n",
       "        <td>1549.4</td>\n",
       "    </tr>\n",
       "    <tr>\n",
       "        <td>Mumbai</td>\n",
       "        <td>India</td>\n",
       "        <td>Fall</td>\n",
       "        <td>27.6</td>\n",
       "        <td>346.0</td>\n",
       "    </tr>\n",
       "    <tr>\n",
       "        <td>Mumbai</td>\n",
       "        <td>India</td>\n",
       "        <td>Winter</td>\n",
       "        <td>24.8</td>\n",
       "        <td>5.9</td>\n",
       "    </tr>\n",
       "    <tr>\n",
       "        <td>Mumbai</td>\n",
       "        <td>India</td>\n",
       "        <td>Spring</td>\n",
       "        <td>28.4</td>\n",
       "        <td>16.2</td>\n",
       "    </tr>\n",
       "    <tr>\n",
       "        <td>Mumbai</td>\n",
       "        <td>India</td>\n",
       "        <td>Summer</td>\n",
       "        <td>27.9</td>\n",
       "        <td>1549.4</td>\n",
       "    </tr>\n",
       "    <tr>\n",
       "        <td>Mumbai</td>\n",
       "        <td>India</td>\n",
       "        <td>Fall</td>\n",
       "        <td>27.6</td>\n",
       "        <td>346.0</td>\n",
       "    </tr>\n",
       "</table>"
      ],
      "text/plain": [
       "[('Mumbai', 'India', 'Winter', 24.8, 5.9),\n",
       " ('Mumbai', 'India', 'Spring', 28.4, 16.2),\n",
       " ('Mumbai', 'India', 'Summer', 27.9, 1549.4),\n",
       " ('Mumbai', 'India', 'Fall', 27.6, 346.0),\n",
       " ('Mumbai', 'India', 'Winter', 24.8, 5.9),\n",
       " ('Mumbai', 'India', 'Spring', 28.4, 16.2),\n",
       " ('Mumbai', 'India', 'Summer', 27.9, 1549.4),\n",
       " ('Mumbai', 'India', 'Fall', 27.6, 346.0)]"
      ]
     },
     "execution_count": 21,
     "metadata": {},
     "output_type": "execute_result"
    }
   ],
   "source": [
    "%%sql\n",
    "select * from whether where countrt =='India';"
   ]
  },
  {
   "cell_type": "markdown",
   "id": "3954d887",
   "metadata": {},
   "source": [
    "<li>d</li>\n",
    "All the Fall records."
   ]
  },
  {
   "cell_type": "code",
   "execution_count": 22,
   "id": "4da83024",
   "metadata": {},
   "outputs": [
    {
     "name": "stdout",
     "output_type": "stream",
     "text": [
      " * sqlite://\n",
      "Done.\n"
     ]
    },
    {
     "data": {
      "text/html": [
       "<table>\n",
       "    <tr>\n",
       "        <th>city</th>\n",
       "        <th>countrt</th>\n",
       "        <th>season</th>\n",
       "        <th>temperature</th>\n",
       "        <th>rainfall</th>\n",
       "    </tr>\n",
       "    <tr>\n",
       "        <td>Mumbai</td>\n",
       "        <td>India</td>\n",
       "        <td>Fall</td>\n",
       "        <td>27.6</td>\n",
       "        <td>346.0</td>\n",
       "    </tr>\n",
       "    <tr>\n",
       "        <td>London</td>\n",
       "        <td>United kingdom</td>\n",
       "        <td>Fall</td>\n",
       "        <td>10.4</td>\n",
       "        <td>218.5</td>\n",
       "    </tr>\n",
       "    <tr>\n",
       "        <td>Mumbai</td>\n",
       "        <td>India</td>\n",
       "        <td>Fall</td>\n",
       "        <td>27.6</td>\n",
       "        <td>346.0</td>\n",
       "    </tr>\n",
       "    <tr>\n",
       "        <td>London</td>\n",
       "        <td>United kingdom</td>\n",
       "        <td>Fall</td>\n",
       "        <td>10.4</td>\n",
       "        <td>218.5</td>\n",
       "    </tr>\n",
       "</table>"
      ],
      "text/plain": [
       "[('Mumbai', 'India', 'Fall', 27.6, 346.0),\n",
       " ('London', 'United kingdom', 'Fall', 10.4, 218.5),\n",
       " ('Mumbai', 'India', 'Fall', 27.6, 346.0),\n",
       " ('London', 'United kingdom', 'Fall', 10.4, 218.5)]"
      ]
     },
     "execution_count": 22,
     "metadata": {},
     "output_type": "execute_result"
    }
   ],
   "source": [
    "%%sql\n",
    "select * from whether where season == 'Fall';"
   ]
  },
  {
   "cell_type": "markdown",
   "id": "13f1a607",
   "metadata": {},
   "source": [
    "<li>e</li>\n",
    "The city, country, and season for which the average rainfall is between 200 and 400 millimeters."
   ]
  },
  {
   "cell_type": "code",
   "execution_count": 23,
   "id": "c67d1c14",
   "metadata": {},
   "outputs": [
    {
     "name": "stdout",
     "output_type": "stream",
     "text": [
      " * sqlite://\n",
      "Done.\n"
     ]
    },
    {
     "data": {
      "text/html": [
       "<table>\n",
       "    <tr>\n",
       "        <th>city</th>\n",
       "        <th>countrt</th>\n",
       "        <th>season</th>\n",
       "    </tr>\n",
       "    <tr>\n",
       "        <td>Mumbai</td>\n",
       "        <td>India</td>\n",
       "        <td>Fall</td>\n",
       "    </tr>\n",
       "    <tr>\n",
       "        <td>London</td>\n",
       "        <td>United kingdom</td>\n",
       "        <td>Winter</td>\n",
       "    </tr>\n",
       "    <tr>\n",
       "        <td>London</td>\n",
       "        <td>United kingdom</td>\n",
       "        <td>Fall</td>\n",
       "    </tr>\n",
       "    <tr>\n",
       "        <td>Mumbai</td>\n",
       "        <td>India</td>\n",
       "        <td>Fall</td>\n",
       "    </tr>\n",
       "    <tr>\n",
       "        <td>London</td>\n",
       "        <td>United kingdom</td>\n",
       "        <td>Winter</td>\n",
       "    </tr>\n",
       "    <tr>\n",
       "        <td>London</td>\n",
       "        <td>United kingdom</td>\n",
       "        <td>Fall</td>\n",
       "    </tr>\n",
       "</table>"
      ],
      "text/plain": [
       "[('Mumbai', 'India', 'Fall'),\n",
       " ('London', 'United kingdom', 'Winter'),\n",
       " ('London', 'United kingdom', 'Fall'),\n",
       " ('Mumbai', 'India', 'Fall'),\n",
       " ('London', 'United kingdom', 'Winter'),\n",
       " ('London', 'United kingdom', 'Fall')]"
      ]
     },
     "execution_count": 23,
     "metadata": {},
     "output_type": "execute_result"
    }
   ],
   "source": [
    "%%sql\n",
    "select city, countrt, season from whether where rainfall between 200 and 400"
   ]
  },
  {
   "cell_type": "markdown",
   "id": "36fc66b9",
   "metadata": {},
   "source": [
    "<li>f</li>\n",
    "The city and country for which the average Fall temperature is above 20 degrees, in increasing temperature order."
   ]
  },
  {
   "cell_type": "code",
   "execution_count": 25,
   "id": "68784e53",
   "metadata": {
    "scrolled": true
   },
   "outputs": [
    {
     "name": "stdout",
     "output_type": "stream",
     "text": [
      " * sqlite://\n",
      "Done.\n"
     ]
    },
    {
     "data": {
      "text/html": [
       "<table>\n",
       "    <tr>\n",
       "        <th>city</th>\n",
       "        <th>countrt</th>\n",
       "    </tr>\n",
       "    <tr>\n",
       "        <td>Mumbai</td>\n",
       "        <td>India</td>\n",
       "    </tr>\n",
       "    <tr>\n",
       "        <td>Mumbai</td>\n",
       "        <td>India</td>\n",
       "    </tr>\n",
       "</table>"
      ],
      "text/plain": [
       "[('Mumbai', 'India'), ('Mumbai', 'India')]"
      ]
     },
     "execution_count": 25,
     "metadata": {},
     "output_type": "execute_result"
    }
   ],
   "source": [
    "%%sql\n",
    "select city, countrt from whether where season == 'Fall' and temperature > 20 order by temperature ASC;"
   ]
  },
  {
   "cell_type": "markdown",
   "id": "956966f8",
   "metadata": {},
   "source": [
    "<li>g</li>\n",
    "The total annual rainfall for Cairo."
   ]
  },
  {
   "cell_type": "code",
   "execution_count": 26,
   "id": "3c98d383",
   "metadata": {},
   "outputs": [
    {
     "name": "stdout",
     "output_type": "stream",
     "text": [
      " * sqlite://\n",
      "Done.\n"
     ]
    },
    {
     "data": {
      "text/html": [
       "<table>\n",
       "    <tr>\n",
       "        <th>annual_rainfall</th>\n",
       "    </tr>\n",
       "    <tr>\n",
       "        <td>46.0</td>\n",
       "    </tr>\n",
       "</table>"
      ],
      "text/plain": [
       "[(46.0,)]"
      ]
     },
     "execution_count": 26,
     "metadata": {},
     "output_type": "execute_result"
    }
   ],
   "source": [
    "%%sql\n",
    "select sum(rainfall) AS annual_rainfall from whether where city == 'Cairo';"
   ]
  },
  {
   "cell_type": "markdown",
   "id": "fd2c4717",
   "metadata": {},
   "source": [
    "<li>h</li>\n",
    "The total rainfall for each season."
   ]
  },
  {
   "cell_type": "code",
   "execution_count": 27,
   "id": "5fcfcdbd",
   "metadata": {},
   "outputs": [
    {
     "name": "stdout",
     "output_type": "stream",
     "text": [
      " * sqlite://\n",
      "Done.\n"
     ]
    },
    {
     "data": {
      "text/html": [
       "<table>\n",
       "    <tr>\n",
       "        <th>season</th>\n",
       "        <th>annual_rainfall</th>\n",
       "    </tr>\n",
       "    <tr>\n",
       "        <td>Fall</td>\n",
       "        <td>1129.0</td>\n",
       "    </tr>\n",
       "    <tr>\n",
       "        <td>Spring</td>\n",
       "        <td>384.59999999999997</td>\n",
       "    </tr>\n",
       "    <tr>\n",
       "        <td>Summer</td>\n",
       "        <td>3412.8</td>\n",
       "    </tr>\n",
       "    <tr>\n",
       "        <td>Winter</td>\n",
       "        <td>460.2</td>\n",
       "    </tr>\n",
       "</table>"
      ],
      "text/plain": [
       "[('Fall', 1129.0),\n",
       " ('Spring', 384.59999999999997),\n",
       " ('Summer', 3412.8),\n",
       " ('Winter', 460.2)]"
      ]
     },
     "execution_count": 27,
     "metadata": {},
     "output_type": "execute_result"
    }
   ],
   "source": [
    "%%sql\n",
    "select season, sum(rainfall) AS annual_rainfall from whether group by season;"
   ]
  },
  {
   "cell_type": "markdown",
   "id": "3397e46b",
   "metadata": {},
   "source": [
    "<p>######################################################################</p>"
   ]
  },
  {
   "cell_type": "markdown",
   "id": "69a8c83e",
   "metadata": {},
   "source": [
    "<h1>Question:9</h1>\n",
    "    Question-9 : \n",
    "   . Suppose list words is defined as follows:\n",
    ">>> words = ['The', 'quick', 'brown', 'fox', 'jumps', 'over', 'the', 'lazy', 'dog']\n",
    "Write list comprehension expressions that use list words and generate the following lists:"
   ]
  },
  {
   "cell_type": "code",
   "execution_count": 5,
   "id": "f7fbd18b",
   "metadata": {},
   "outputs": [
    {
     "name": "stdout",
     "output_type": "stream",
     "text": [
      "value of a = ['THE', 'QUICK', 'BROWN', 'FOX', 'JUMPS', 'OVER', 'THE', 'LAZY', 'DOG']\n",
      "value of b = ['the', 'quick', 'brown', 'fox', 'jumps', 'over', 'the', 'lazy', 'dog']\n",
      "value of c = [3, 5, 5, 3, 5, 4, 3, 4, 3]\n",
      "value of d = [['THE', 'the', 3], ['QUICK', 'quick', 5], ['BROWN', 'brown', 5], ['FOX', 'fox', 3], ['JUMPS', 'jumps', 5], ['OVER', 'over', 4], ['THE', 'the', 3], ['LAZY', 'lazy', 4], ['DOG', 'dog', 3]]\n",
      "value of e = ['dog', 'dog', 'dog', 'dog', 'dog']\n"
     ]
    }
   ],
   "source": [
    "words = ['The', 'quick', 'brown', 'fox', 'jumps', 'over', 'the', 'lazy', 'dog']\n",
    "\n",
    "\n",
    "a = []\n",
    "for u in words:\n",
    "    a.append(u.upper())\n",
    "print('value of a = {}'.format(a))\n",
    "\n",
    "\n",
    "b = []\n",
    "for v in words:\n",
    "    b.append(v.lower())\n",
    "print('value of b = {}'.format(b))\n",
    "\n",
    "\n",
    "c = []\n",
    "for w in words:\n",
    "    c.append(len(w))\n",
    "print('value of c = {}'.format(c))\n",
    "\n",
    "\n",
    "d = []\n",
    "for x in words:\n",
    "    addition = []\n",
    "    addition.append(x.upper())\n",
    "    addition.append(x.lower())\n",
    "    addition.append(len(x))\n",
    "    d.append(addition)\n",
    "print('value of d = {}'.format(d))\n",
    "\n",
    "\n",
    "e = []\n",
    "for y in words:\n",
    "    if len(y) > 3:\n",
    "        e.append(m)\n",
    "print('value of e = {}'.format(e))"
   ]
  },
  {
   "cell_type": "markdown",
   "id": "a8cbb050",
   "metadata": {},
   "source": [
    "<p>######################################################################</p>"
   ]
  },
  {
   "cell_type": "code",
   "execution_count": null,
   "id": "9d8250ea",
   "metadata": {},
   "outputs": [],
   "source": []
  }
 ],
 "metadata": {
  "kernelspec": {
   "display_name": "Python 3",
   "language": "python",
   "name": "python3"
  },
  "language_info": {
   "codemirror_mode": {
    "name": "ipython",
    "version": 3
   },
   "file_extension": ".py",
   "mimetype": "text/x-python",
   "name": "python",
   "nbconvert_exporter": "python",
   "pygments_lexer": "ipython3",
   "version": "3.8.8"
  }
 },
 "nbformat": 4,
 "nbformat_minor": 5
}
